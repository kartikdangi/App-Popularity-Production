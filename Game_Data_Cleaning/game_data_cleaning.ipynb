{
 "cells": [
  {
   "cell_type": "code",
   "execution_count": 1,
   "metadata": {},
   "outputs": [],
   "source": [
    "import pandas as pd\n",
    "import numpy as np\n",
    "df = pd.read_csv(r'C:\\Users\\harsh\\Desktop\\Extracted_games.csv')"
   ]
  },
  {
   "cell_type": "code",
   "execution_count": 2,
   "metadata": {
    "scrolled": false
   },
   "outputs": [
    {
     "data": {
      "text/html": [
       "<div>\n",
       "<style scoped>\n",
       "    .dataframe tbody tr th:only-of-type {\n",
       "        vertical-align: middle;\n",
       "    }\n",
       "\n",
       "    .dataframe tbody tr th {\n",
       "        vertical-align: top;\n",
       "    }\n",
       "\n",
       "    .dataframe thead th {\n",
       "        text-align: right;\n",
       "    }\n",
       "</style>\n",
       "<table border=\"1\" class=\"dataframe\">\n",
       "  <thead>\n",
       "    <tr style=\"text-align: right;\">\n",
       "      <th></th>\n",
       "      <th>_editors_choice</th>\n",
       "      <th>_game_types</th>\n",
       "      <th>_comments</th>\n",
       "      <th>_price</th>\n",
       "      <th>_updated</th>\n",
       "      <th>_size</th>\n",
       "      <th>_installs</th>\n",
       "      <th>_version</th>\n",
       "      <th>_required_android</th>\n",
       "      <th>_content_rating</th>\n",
       "      <th>_interactive_elements</th>\n",
       "      <th>_in_app_products</th>\n",
       "      <th>_offered_by</th>\n",
       "      <th>_developer</th>\n",
       "    </tr>\n",
       "  </thead>\n",
       "  <tbody>\n",
       "    <tr>\n",
       "      <th>0</th>\n",
       "      <td>0</td>\n",
       "      <td>['Rockstar Games', 'Arcade']</td>\n",
       "      <td>1,57,483 total</td>\n",
       "      <td>₹121.00 Buy</td>\n",
       "      <td>6 February 2019</td>\n",
       "      <td>7.3M</td>\n",
       "      <td>1,000,000+</td>\n",
       "      <td>1.09</td>\n",
       "      <td>7.0 and up</td>\n",
       "      <td>Rated for 18+\\nExtreme violence\\nLearn more</td>\n",
       "      <td>none</td>\n",
       "      <td>none</td>\n",
       "      <td>Rockstar Games</td>\n",
       "      <td>Visit website\\nViceCity_AndroidSupport@rocksta...</td>\n",
       "    </tr>\n",
       "    <tr>\n",
       "      <th>1</th>\n",
       "      <td>0</td>\n",
       "      <td>['Best Free Games Inc.', 'Racing']</td>\n",
       "      <td>23,326 total</td>\n",
       "      <td>₹10.00 Buy</td>\n",
       "      <td>22 August 2016</td>\n",
       "      <td>37M</td>\n",
       "      <td>500,000+</td>\n",
       "      <td>1.5</td>\n",
       "      <td>4.0.3 and up</td>\n",
       "      <td>Rated for 3+\\nLearn more</td>\n",
       "      <td>Digital purchases</td>\n",
       "      <td>₹10.00 – ₹200.00 per item</td>\n",
       "      <td>Best Free Games Inc.</td>\n",
       "      <td>Visit website\\npr@bestfreegames.mobi\\nPrivacy ...</td>\n",
       "    </tr>\n",
       "    <tr>\n",
       "      <th>2</th>\n",
       "      <td>Editors' Choice</td>\n",
       "      <td>['Mojang', 'Arcade']</td>\n",
       "      <td>37,95,238 total</td>\n",
       "      <td>₹479.56 Buy</td>\n",
       "      <td>2 December 2020</td>\n",
       "      <td>Varies with device</td>\n",
       "      <td>10,000,000+</td>\n",
       "      <td>1.16.200.02</td>\n",
       "      <td>Varies with device</td>\n",
       "      <td>Rated for 7+\\nFear, Mild violence\\nLearn more</td>\n",
       "      <td>Users interact</td>\n",
       "      <td>₹24.80 – ₹4,050.00 per item</td>\n",
       "      <td>Mojang</td>\n",
       "      <td>Visit website\\nhelp@minecraft.net\\nPrivacy Pol...</td>\n",
       "    </tr>\n",
       "    <tr>\n",
       "      <th>3</th>\n",
       "      <td>0</td>\n",
       "      <td>['RORTOS', 'Simulation']</td>\n",
       "      <td>70,448 total</td>\n",
       "      <td>₹29.00 Buy</td>\n",
       "      <td>24 November 2020</td>\n",
       "      <td>60M</td>\n",
       "      <td>1,000,000+</td>\n",
       "      <td>1.2.3</td>\n",
       "      <td>4.3 and up</td>\n",
       "      <td>Rated for 3+\\nLearn more</td>\n",
       "      <td>Digital purchases</td>\n",
       "      <td>₹319.00 – ₹2,349.00 per item</td>\n",
       "      <td>RORTOS</td>\n",
       "      <td>Visit website\\nrfs@rortos.com\\nPrivacy Policy\\...</td>\n",
       "    </tr>\n",
       "    <tr>\n",
       "      <th>4</th>\n",
       "      <td>Editors' Choice</td>\n",
       "      <td>['SQUARE ENIX LTD', 'Action']</td>\n",
       "      <td>8,35,484 total</td>\n",
       "      <td>₹30.00 Buy</td>\n",
       "      <td>24 August 2020</td>\n",
       "      <td>48M</td>\n",
       "      <td>10,000,000+</td>\n",
       "      <td>1.7.193827</td>\n",
       "      <td>4.1 and up</td>\n",
       "      <td>Rated for 18+\\nExtreme violence\\nLearn more</td>\n",
       "      <td>Shares info, Digital purchases</td>\n",
       "      <td>₹77.55 – ₹4,000.00 per item</td>\n",
       "      <td>SQUARE ENIX LTD</td>\n",
       "      <td>Visit website\\nsupport@square-enix-montreal.ma...</td>\n",
       "    </tr>\n",
       "  </tbody>\n",
       "</table>\n",
       "</div>"
      ],
      "text/plain": [
       "   _editors_choice                         _game_types        _comments  \\\n",
       "0                0        ['Rockstar Games', 'Arcade']   1,57,483 total   \n",
       "1                0  ['Best Free Games Inc.', 'Racing']     23,326 total   \n",
       "2  Editors' Choice                ['Mojang', 'Arcade']  37,95,238 total   \n",
       "3                0            ['RORTOS', 'Simulation']     70,448 total   \n",
       "4  Editors' Choice       ['SQUARE ENIX LTD', 'Action']   8,35,484 total   \n",
       "\n",
       "        _price          _updated               _size    _installs  \\\n",
       "0  ₹121.00 Buy   6 February 2019                7.3M   1,000,000+   \n",
       "1   ₹10.00 Buy    22 August 2016                 37M     500,000+   \n",
       "2  ₹479.56 Buy   2 December 2020  Varies with device  10,000,000+   \n",
       "3   ₹29.00 Buy  24 November 2020                 60M   1,000,000+   \n",
       "4   ₹30.00 Buy    24 August 2020                 48M  10,000,000+   \n",
       "\n",
       "      _version   _required_android  \\\n",
       "0         1.09          7.0 and up   \n",
       "1          1.5        4.0.3 and up   \n",
       "2  1.16.200.02  Varies with device   \n",
       "3        1.2.3          4.3 and up   \n",
       "4   1.7.193827          4.1 and up   \n",
       "\n",
       "                                 _content_rating  \\\n",
       "0    Rated for 18+\\nExtreme violence\\nLearn more   \n",
       "1                       Rated for 3+\\nLearn more   \n",
       "2  Rated for 7+\\nFear, Mild violence\\nLearn more   \n",
       "3                       Rated for 3+\\nLearn more   \n",
       "4    Rated for 18+\\nExtreme violence\\nLearn more   \n",
       "\n",
       "            _interactive_elements              _in_app_products  \\\n",
       "0                            none                          none   \n",
       "1               Digital purchases     ₹10.00 – ₹200.00 per item   \n",
       "2                  Users interact   ₹24.80 – ₹4,050.00 per item   \n",
       "3               Digital purchases  ₹319.00 – ₹2,349.00 per item   \n",
       "4  Shares info, Digital purchases   ₹77.55 – ₹4,000.00 per item   \n",
       "\n",
       "            _offered_by                                         _developer  \n",
       "0        Rockstar Games  Visit website\\nViceCity_AndroidSupport@rocksta...  \n",
       "1  Best Free Games Inc.  Visit website\\npr@bestfreegames.mobi\\nPrivacy ...  \n",
       "2                Mojang  Visit website\\nhelp@minecraft.net\\nPrivacy Pol...  \n",
       "3                RORTOS  Visit website\\nrfs@rortos.com\\nPrivacy Policy\\...  \n",
       "4       SQUARE ENIX LTD  Visit website\\nsupport@square-enix-montreal.ma...  "
      ]
     },
     "execution_count": 2,
     "metadata": {},
     "output_type": "execute_result"
    }
   ],
   "source": [
    "df.head()"
   ]
  },
  {
   "cell_type": "code",
   "execution_count": 3,
   "metadata": {},
   "outputs": [
    {
     "data": {
      "text/plain": [
       "0    498\n",
       "1    101\n",
       "Name: editors_choice, dtype: int64"
      ]
     },
     "execution_count": 3,
     "metadata": {},
     "output_type": "execute_result"
    }
   ],
   "source": [
    "df['editors_choice'] = df['_editors_choice'].apply(lambda x: 0 if x=='0' else 1)\n",
    "df['editors_choice'].value_counts()"
   ]
  },
  {
   "cell_type": "code",
   "execution_count": 4,
   "metadata": {},
   "outputs": [
    {
     "data": {
      "text/plain": [
       "['My Town Games Ltd', 'Educational']    8\n",
       "['AGaming+', 'Action']                  7\n",
       "['Playrix', 'Casual']                   6\n",
       "['King', 'Casual']                      6\n",
       "['ONESOFT', 'Arcade']                   5\n",
       "                                       ..\n",
       "['Top Actions', 'Action']               1\n",
       "['CASUAL AZUR GAMES', 'Simulation']     1\n",
       "['Fast Emulator', 'Arcade']             1\n",
       "['IGG.COM', 'Casino']                   1\n",
       "['InnoGames GmbH', 'Strategy']          1\n",
       "Name: _game_types, Length: 439, dtype: int64"
      ]
     },
     "execution_count": 4,
     "metadata": {},
     "output_type": "execute_result"
    }
   ],
   "source": [
    "df['_game_types'].value_counts()"
   ]
  },
  {
   "cell_type": "code",
   "execution_count": 5,
   "metadata": {},
   "outputs": [],
   "source": [
    "types=df['_game_types'].apply(lambda x: x.split(',')[1])\n",
    "types=df['_game_types'].apply(lambda x: x.replace(']','').replace(\" \",\"\").replace(\"'\",\"\").split(',')[1:])\n"
   ]
  },
  {
   "cell_type": "code",
   "execution_count": 6,
   "metadata": {},
   "outputs": [
    {
     "data": {
      "text/plain": [
       "[Action]                   92\n",
       "[Simulation]               53\n",
       "[Puzzle]                   53\n",
       "[Arcade]                   52\n",
       "[Adventure]                48\n",
       "[Casual]                   48\n",
       "[Strategy]                 45\n",
       "[RolePlaying]              44\n",
       "[Racing]                   42\n",
       "[Sports]                   27\n",
       "[Board]                    25\n",
       "[Educational]              19\n",
       "[Casino]                   13\n",
       "[Card]                     11\n",
       "[Music]                     4\n",
       "[Inc., Action]              3\n",
       "[CalmGames), Adventure]     2\n",
       "[Inc., Adventure]           2\n",
       "[Inc., Sports]              2\n",
       "[Ltd., RolePlaying]         1\n",
       "[LTD, Adventure]            1\n",
       "[Inc., Board]               1\n",
       "[Inc., RolePlaying]         1\n",
       "[Word]                      1\n",
       "[Inc., Casual]              1\n",
       "[LIMITED, Action]           1\n",
       "[Inc., Arcade]              1\n",
       "[Inc, Puzzle]               1\n",
       "[Inc., Casino]              1\n",
       "[LIMITED, Strategy]         1\n",
       "[LLC, Arcade]               1\n",
       "[Ltd., Strategy]            1\n",
       "[Inc., Card]                1\n",
       "Name: _game_types, dtype: int64"
      ]
     },
     "execution_count": 6,
     "metadata": {},
     "output_type": "execute_result"
    }
   ],
   "source": [
    "types.value_counts()"
   ]
  },
  {
   "cell_type": "code",
   "execution_count": 7,
   "metadata": {
    "scrolled": false
   },
   "outputs": [
    {
     "name": "stdout",
     "output_type": "stream",
     "text": [
      "action           92\n",
      "puzzle           53\n",
      "simulation       53\n",
      "arcade           52\n",
      "casual           48\n",
      "adventure        48\n",
      "strategy         45\n",
      "roleplaying      44\n",
      "racing           42\n",
      "sports           27\n",
      "board            25\n",
      "not_specified    22\n",
      "education        19\n",
      "casino           13\n",
      "card             11\n",
      "music             4\n",
      "word              1\n",
      "Name: game_types, dtype: int64\n"
     ]
    }
   ],
   "source": [
    "types=df['_game_types'].apply(lambda x: x.replace(']','').replace(\" \",\"\").replace(\"'\",\"\").split(',')[1:])\n",
    "c=types.apply(lambda x: ','.join(x)).apply(lambda x: x.lower().replace('inc.','').replace('inc','').replace('llc','').replace('ltd','').replace('ltd.','').replace('limited','').replace('calmgames)','').replace('&',',').replace('and',',').replace('educational','education').replace('.','').replace(' ',','))\n",
    "df['game_types'] = c.apply(lambda x: x.split(',')[0])\n",
    "df['game_types'] = df['game_types'].apply(lambda x: 'not_specified' if x=='' else x)\n",
    "print(df['game_types'].value_counts())"
   ]
  },
  {
   "cell_type": "code",
   "execution_count": 8,
   "metadata": {},
   "outputs": [],
   "source": [
    "a=df['game_types'].value_counts()"
   ]
  },
  {
   "cell_type": "code",
   "execution_count": 9,
   "metadata": {},
   "outputs": [
    {
     "data": {
      "text/plain": [
       "Index(['action', 'puzzle', 'simulation', 'arcade', 'casual', 'adventure',\n",
       "       'strategy', 'roleplaying', 'racing', 'sports', 'board', 'not_specified',\n",
       "       'education', 'casino', 'card', 'music', 'word'],\n",
       "      dtype='object')"
      ]
     },
     "execution_count": 9,
     "metadata": {},
     "output_type": "execute_result"
    }
   ],
   "source": [
    "a.index"
   ]
  },
  {
   "cell_type": "code",
   "execution_count": 10,
   "metadata": {},
   "outputs": [],
   "source": [
    "df['comments'] = df['_comments'].apply(lambda x: x.lower().replace('not given','0').split(' ')[0].replace(',','')).apply(lambda x: int(x) )"
   ]
  },
  {
   "cell_type": "code",
   "execution_count": 11,
   "metadata": {},
   "outputs": [],
   "source": [
    "def f(y):\n",
    "    if y=='Install':\n",
    "        x=0\n",
    "    else:\n",
    "        if len(y.split(' '))==2:\n",
    "            x=int(float((y.split(\" \")[0])))\n",
    "        else:\n",
    "            x=int(float((y.split(\" \")[1])))    # for games on offer\n",
    "    return x \n",
    "df['price'] = df['_price'].apply(lambda x: x.replace('₹','').replace('.','').replace(',','')).apply(lambda x : f(x)) "
   ]
  },
  {
   "cell_type": "code",
   "execution_count": 12,
   "metadata": {},
   "outputs": [],
   "source": [
    "df['updated'] = df['_updated'].apply(lambda x: x.split(' ')[2])"
   ]
  },
  {
   "cell_type": "code",
   "execution_count": 13,
   "metadata": {},
   "outputs": [
    {
     "name": "stdout",
     "output_type": "stream",
     "text": [
      "0      82\n",
      "99     10\n",
      "27      9\n",
      "37      9\n",
      "45      9\n",
      "       ..\n",
      "112     1\n",
      "113     1\n",
      "65      1\n",
      "631     1\n",
      "947     1\n",
      "Name: _size, Length: 155, dtype: int64\n"
     ]
    }
   ],
   "source": [
    "size = df['_size'].apply(lambda x: '0' if x=='Varies with device' else x).apply(lambda x: int(float(x.split('M')[0])))\n",
    "size_count = size.value_counts()\n",
    "print(size_count)\n",
    "d=0\n",
    "for i in size_count.index: # to fill the data not given\n",
    "    d+= size_count.get(key=i)*i\n",
    "df['size'] = size.apply(lambda x: int(d/size_count.sum()) if x==0 else int(x))"
   ]
  },
  {
   "cell_type": "code",
   "execution_count": 14,
   "metadata": {},
   "outputs": [],
   "source": [
    "df['installs'] = df['_installs'].apply(lambda x: int(float(x.split('+')[0].replace(',',''))))"
   ]
  },
  {
   "cell_type": "code",
   "execution_count": 15,
   "metadata": {},
   "outputs": [
    {
     "name": "stdout",
     "output_type": "stream",
     "text": [
      "4    422\n",
      "5    102\n",
      "0     24\n",
      "6     20\n",
      "2     18\n",
      "7     12\n",
      "8      1\n",
      "Name: _required_android, dtype: int64\n"
     ]
    }
   ],
   "source": [
    "req_android = df['_required_android'].apply(lambda x: 0 if 'Varies with device' in x else int(x.split('.')[0]))\n",
    "req_android_count = req_android.value_counts()\n",
    "print(req_android_count)\n",
    "b = 0\n",
    "for i in req_android_count.index:       # to fill the data not given\n",
    "    b+= req_android_count.get(key=i)*i\n",
    "df['required_android'] = req_android.apply(lambda x: int(b/req_android_count.sum()) if x==0 else int(x))"
   ]
  },
  {
   "cell_type": "code",
   "execution_count": 16,
   "metadata": {},
   "outputs": [],
   "source": [
    "df['content_rating'] = df['_content_rating'].apply(lambda x: 'Rated for 12+' if x=='unavailable' else x).apply(lambda x: x.split('\\n')[0]).apply(lambda x: int(x.replace('Rated for ','').replace('+','')))"
   ]
  },
  {
   "cell_type": "code",
   "execution_count": 17,
   "metadata": {},
   "outputs": [
    {
     "data": {
      "text/plain": [
       "0    295\n",
       "1    263\n",
       "2     38\n",
       "3      3\n",
       "Name: game_features, dtype: int64"
      ]
     },
     "execution_count": 17,
     "metadata": {},
     "output_type": "execute_result"
    }
   ],
   "source": [
    "df['_game_features']=df['_content_rating'].apply(lambda x: x.split('\\n')[1])\n",
    "df['game_features']=df['_game_features'].apply(lambda x: 0 if x.split(',')[0]=='Learn more' else len(x.split(',')))\n",
    "df['game_features'].value_counts()\n",
    "# will have to explain why only the length has been taken"
   ]
  },
  {
   "cell_type": "code",
   "execution_count": 18,
   "metadata": {},
   "outputs": [],
   "source": [
    "df['interactive_elements'] = df['_interactive_elements'].apply(lambda x: x.split(',')).apply(lambda x: 0 if 'none' in x else len(x))"
   ]
  },
  {
   "cell_type": "code",
   "execution_count": 19,
   "metadata": {},
   "outputs": [],
   "source": [
    "in_app_products = df['_in_app_products'].apply(lambda x: x.replace('per item','').replace('₹','').replace(',','').replace('.',''))\n",
    "in_app_products_max = in_app_products.apply(lambda x: x.split(' – ')).apply(lambda x: 0 if len(x)==1 else int(x[1]))\n",
    "in_app_products_min = in_app_products.apply(lambda x: x.split(' – ')).apply(lambda x: 0 if x[0]== 'none' else int(x[0]))\n",
    "df['in_app_products_avg'] = in_app_products_min/2+in_app_products_max/2\n",
    "df['in_app_products_avg'] = df['in_app_products_avg'].apply(lambda x: int(x))"
   ]
  },
  {
   "cell_type": "code",
   "execution_count": 20,
   "metadata": {},
   "outputs": [],
   "source": [
    "df['has_website'] = df['_developer'].apply(lambda x: x.split('\\n')[0]).apply(lambda x: 1 if 'Visit website' in x else 0 )"
   ]
  },
  {
   "cell_type": "code",
   "execution_count": 21,
   "metadata": {},
   "outputs": [
    {
     "data": {
      "text/plain": [
       "Index(['_editors_choice', '_game_types', '_comments', '_price', '_updated',\n",
       "       '_size', '_installs', '_version', '_required_android',\n",
       "       '_content_rating', '_interactive_elements', '_in_app_products',\n",
       "       '_offered_by', '_developer', 'editors_choice', 'game_types', 'comments',\n",
       "       'price', 'updated', 'size', 'installs', 'required_android',\n",
       "       'content_rating', '_game_features', 'game_features',\n",
       "       'interactive_elements', 'in_app_products_avg', 'has_website'],\n",
       "      dtype='object')"
      ]
     },
     "execution_count": 21,
     "metadata": {},
     "output_type": "execute_result"
    }
   ],
   "source": [
    "df.columns"
   ]
  },
  {
   "cell_type": "code",
   "execution_count": 22,
   "metadata": {},
   "outputs": [],
   "source": [
    "df=df.drop(['_editors_choice', '_game_types', '_comments', '_price', '_updated','_size', '_installs', '_version', '_required_android','_content_rating', '_interactive_elements', '_in_app_products','_offered_by', '_developer','_game_features'],axis=1)"
   ]
  },
  {
   "cell_type": "code",
   "execution_count": 23,
   "metadata": {},
   "outputs": [
    {
     "data": {
      "text/plain": [
       "Index(['editors_choice', 'game_types', 'comments', 'price', 'updated', 'size',\n",
       "       'installs', 'required_android', 'content_rating', 'game_features',\n",
       "       'interactive_elements', 'in_app_products_avg', 'has_website'],\n",
       "      dtype='object')"
      ]
     },
     "execution_count": 23,
     "metadata": {},
     "output_type": "execute_result"
    }
   ],
   "source": [
    "df.columns"
   ]
  },
  {
   "cell_type": "code",
   "execution_count": 24,
   "metadata": {},
   "outputs": [],
   "source": [
    "df.to_csv(r'C:\\Users\\harsh\\Desktop\\Cleaned_Games.csv',index=False)"
   ]
  }
 ],
 "metadata": {
  "kernelspec": {
   "display_name": "Python 3",
   "language": "python",
   "name": "python3"
  },
  "language_info": {
   "codemirror_mode": {
    "name": "ipython",
    "version": 3
   },
   "file_extension": ".py",
   "mimetype": "text/x-python",
   "name": "python",
   "nbconvert_exporter": "python",
   "pygments_lexer": "ipython3",
   "version": "3.8.3"
  }
 },
 "nbformat": 4,
 "nbformat_minor": 4
}
